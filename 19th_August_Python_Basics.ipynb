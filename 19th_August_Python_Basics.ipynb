{
 "cells": [
  {
   "cell_type": "markdown",
   "id": "a88cfbfa-73a8-4400-aae8-6b60751eb56e",
   "metadata": {},
   "source": [
    "# TOPIC: Python Basics Variable"
   ]
  },
  {
   "cell_type": "markdown",
   "id": "3ab2ac68-7f12-4579-938a-d69f1ef273f5",
   "metadata": {},
   "source": [
    "###  1.  Declare two variables, `x` and `y`, and assign them integer values. Swap the values of these variables without using any temporary variable."
   ]
  },
  {
   "cell_type": "code",
   "execution_count": 1,
   "id": "84a6dcd2-9baa-4d4e-aea7-8629e3740221",
   "metadata": {},
   "outputs": [],
   "source": [
    "x = 10\n",
    "y = 20"
   ]
  },
  {
   "cell_type": "code",
   "execution_count": 2,
   "id": "f0f74448-758e-42e2-be97-c4372a77044e",
   "metadata": {},
   "outputs": [
    {
     "name": "stdout",
     "output_type": "stream",
     "text": [
      "Initial value of x => 10\n",
      "Initial value of y => 20\n"
     ]
    }
   ],
   "source": [
    "\n",
    "print('Initial value of x => ' + str(x))\n",
    "print('Initial value of y => ' + str(y))"
   ]
  },
  {
   "cell_type": "code",
   "execution_count": 3,
   "id": "aec98efa-7ca7-459b-92dc-08984d7d6728",
   "metadata": {},
   "outputs": [
    {
     "name": "stdout",
     "output_type": "stream",
     "text": [
      "30\n",
      "10\n"
     ]
    }
   ],
   "source": [
    "x = x+y\n",
    "y = x-y\n",
    "print(x)\n",
    "print(y)\n",
    "x= x-y"
   ]
  },
  {
   "cell_type": "code",
   "execution_count": 4,
   "id": "0081a19d-86d6-4549-b479-8e128f04be18",
   "metadata": {},
   "outputs": [
    {
     "name": "stdout",
     "output_type": "stream",
     "text": [
      "Final value of x => 20\n",
      "Final value of y => 10\n"
     ]
    }
   ],
   "source": [
    "\n",
    "print('Final value of x => ' + str(x))\n",
    "print('Final value of y => ' + str(y))"
   ]
  },
  {
   "cell_type": "markdown",
   "id": "280d95d5-a5b6-41cb-a91c-699595de347c",
   "metadata": {},
   "source": [
    "### 2. Create a program that calculates the area of a rectangle. Take the length and width as inputs from the user and store them in variables. Calculate and display the area."
   ]
  },
  {
   "cell_type": "code",
   "execution_count": 5,
   "id": "58b7e766-f9c3-4f9b-9501-c2cb235f7671",
   "metadata": {},
   "outputs": [
    {
     "name": "stdout",
     "output_type": "stream",
     "text": [
      "Please enter the length of the rectangle\n"
     ]
    },
    {
     "name": "stdin",
     "output_type": "stream",
     "text": [
      " 12\n"
     ]
    }
   ],
   "source": [
    "print(\"Please enter the length of the rectangle\")\n",
    "length = int(input( ))"
   ]
  },
  {
   "cell_type": "code",
   "execution_count": 6,
   "id": "a40103be-eb7f-4757-bf07-be43c927f142",
   "metadata": {},
   "outputs": [
    {
     "name": "stdout",
     "output_type": "stream",
     "text": [
      "Please enter the width of the rectangle\n"
     ]
    },
    {
     "name": "stdin",
     "output_type": "stream",
     "text": [
      " 14\n"
     ]
    }
   ],
   "source": [
    "print(\"Please enter the width of the rectangle\")\n",
    "width = int(input( ))"
   ]
  },
  {
   "cell_type": "code",
   "execution_count": 7,
   "id": "0e6753cc-90cc-4b32-9a65-c8022b7dbe4c",
   "metadata": {},
   "outputs": [
    {
     "name": "stdout",
     "output_type": "stream",
     "text": [
      "Area of rectangle with length 12 and width 14 is 168\n"
     ]
    }
   ],
   "source": [
    "print(\"Area of rectangle with length \" + str(length) + \" and width \" +str(width) + \" is \" + str(length*width))"
   ]
  },
  {
   "cell_type": "markdown",
   "id": "eaa30fb7-de29-4d04-a9e5-a6bb5b921c45",
   "metadata": {},
   "source": [
    "### 3. Write a Python program that converts temperatures from Celsius to Fahrenheit. Take the temperature in Celsius as input, store it in a variable, convert it to Fahrenheit, and display the result."
   ]
  },
  {
   "cell_type": "code",
   "execution_count": 8,
   "id": "a3ca258a-90c3-48be-a621-aa0bd7797ba9",
   "metadata": {},
   "outputs": [
    {
     "name": "stdout",
     "output_type": "stream",
     "text": [
      "Please enter the temperature in Celsius\n"
     ]
    },
    {
     "name": "stdin",
     "output_type": "stream",
     "text": [
      " 35\n"
     ]
    }
   ],
   "source": [
    "print(\"Please enter the temperature in Celsius\")\n",
    "celsius = int(input( ))"
   ]
  },
  {
   "cell_type": "code",
   "execution_count": 9,
   "id": "2264ca49-9168-4862-846a-75a3b5fcece5",
   "metadata": {},
   "outputs": [],
   "source": [
    "farenheit= ((celsius * 9)/5) + 32\n"
   ]
  },
  {
   "cell_type": "code",
   "execution_count": 10,
   "id": "66c950f5-1079-465b-8f1d-1ecaabae2bfe",
   "metadata": {},
   "outputs": [
    {
     "name": "stdout",
     "output_type": "stream",
     "text": [
      " The temperature in Farenheit is 95.0\n"
     ]
    }
   ],
   "source": [
    "print(\" The temperature in Farenheit is \" + str(farenheit))"
   ]
  },
  {
   "cell_type": "markdown",
   "id": "2b4e5113-5563-4094-8819-ab7d6a792c74",
   "metadata": {},
   "source": [
    "# TOPIC: String Based Questions"
   ]
  },
  {
   "cell_type": "markdown",
   "id": "649a22ad-9b03-43f8-afa5-1ef968a61ae9",
   "metadata": {},
   "source": [
    "### 1. Write a Python program that takes a string as input and prints the length of the string."
   ]
  },
  {
   "cell_type": "code",
   "execution_count": 11,
   "id": "9bb4a87a-1f97-40de-8507-e99f043d9cc8",
   "metadata": {},
   "outputs": [
    {
     "name": "stdout",
     "output_type": "stream",
     "text": [
      "Please enter any string to check the length\n"
     ]
    },
    {
     "name": "stdin",
     "output_type": "stream",
     "text": [
      " Give me the length of this string\n"
     ]
    }
   ],
   "source": [
    "print(\"Please enter any string to check the length\")\n",
    "string = input( )"
   ]
  },
  {
   "cell_type": "code",
   "execution_count": 12,
   "id": "e6636811-6834-4296-a5fd-7bc10d857ba1",
   "metadata": {},
   "outputs": [
    {
     "name": "stdout",
     "output_type": "stream",
     "text": [
      "Length of the string (Give me the length of this string) is 33\n"
     ]
    }
   ],
   "source": [
    "print(\"Length of the string (\"+ string + \") is \" + str(len(string)))"
   ]
  },
  {
   "cell_type": "markdown",
   "id": "09f8bdcd-2935-44fa-891f-fc2c0bdf18ab",
   "metadata": {},
   "source": [
    "### 2. Create a program that takes a sentence from the user and counts the number of vowels (a, e, i, o, u) in the string."
   ]
  },
  {
   "cell_type": "code",
   "execution_count": 13,
   "id": "e842ce34-15d0-4a86-a59d-9eb1407fc8f1",
   "metadata": {},
   "outputs": [
    {
     "name": "stdout",
     "output_type": "stream",
     "text": [
      "Please enter any string to count vowels\n"
     ]
    },
    {
     "name": "stdin",
     "output_type": "stream",
     "text": [
      " I want to count and print vowels in this sentence\n"
     ]
    }
   ],
   "source": [
    "print(\"Please enter any string to count vowels\")\n",
    "string = input( )"
   ]
  },
  {
   "cell_type": "code",
   "execution_count": 14,
   "id": "7d33af22-ad8f-4ece-9fce-123b709a61a6",
   "metadata": {},
   "outputs": [
    {
     "name": "stdout",
     "output_type": "stream",
     "text": [
      "14\n"
     ]
    }
   ],
   "source": [
    "vowels = \"aeiouAEIOU\"\n",
    "count =0 \n",
    "for char in string:\n",
    "    if char in vowels:\n",
    "        count = count+1\n",
    "print(count)"
   ]
  },
  {
   "cell_type": "markdown",
   "id": "b8409507-cbe6-442e-8c0d-a4081c547ac5",
   "metadata": {},
   "source": [
    "### 3. Given a string, reverse the order of characters using string slicing and print the reversed string."
   ]
  },
  {
   "cell_type": "code",
   "execution_count": 15,
   "id": "67851735-039c-4bd3-862d-2b8439f255c8",
   "metadata": {},
   "outputs": [
    {
     "data": {
      "text/plain": [
       "'irhtayaG si eman yM'"
      ]
     },
     "execution_count": 15,
     "metadata": {},
     "output_type": "execute_result"
    }
   ],
   "source": [
    "string = \"My name is Gayathri\"\n",
    "\n",
    "reversed_string =  string[::-1]\n",
    "\n",
    "reversed_string"
   ]
  },
  {
   "cell_type": "markdown",
   "id": "994a8367-071c-42b6-8a51-bd2af0581b71",
   "metadata": {},
   "source": [
    "### 4. Write a program that takes a string as input and checks if it is a palindrome (reads the same forwards and backwards)."
   ]
  },
  {
   "cell_type": "code",
   "execution_count": 16,
   "id": "c07a3a88-568f-4668-b0c0-fc68182707ff",
   "metadata": {},
   "outputs": [
    {
     "name": "stdout",
     "output_type": "stream",
     "text": [
      "Please enter any string to check if it is a palindrome\n"
     ]
    },
    {
     "name": "stdin",
     "output_type": "stream",
     "text": [
      " rotator\n"
     ]
    }
   ],
   "source": [
    "print(\"Please enter any string to check if it is a palindrome\")\n",
    "string = input( )"
   ]
  },
  {
   "cell_type": "code",
   "execution_count": 17,
   "id": "5698faa8-aec7-4ebe-a835-74b246f5631d",
   "metadata": {},
   "outputs": [
    {
     "name": "stdout",
     "output_type": "stream",
     "text": [
      "The string \"rotator\" is a palindrome\n"
     ]
    }
   ],
   "source": [
    "reversed_string =  string[::-1]\n",
    "if reversed_string.lower()== string.lower():\n",
    "    print('The string \"'+string+'\" is a palindrome')\n",
    "else:\n",
    "     print('The string \"'+string+'\" is NOT a palindrome')"
   ]
  },
  {
   "cell_type": "markdown",
   "id": "66a7c382-4aac-4c64-9f18-36f003938ad0",
   "metadata": {},
   "source": [
    "### 5.Create a program that takes a string as input and removes all the spaces from it. Print the modified string without spaces."
   ]
  },
  {
   "cell_type": "code",
   "execution_count": 18,
   "id": "8191a0b8-ddda-46b9-a6c7-2cb57c469542",
   "metadata": {},
   "outputs": [
    {
     "name": "stdout",
     "output_type": "stream",
     "text": [
      "Please enter any string to remove space\n"
     ]
    },
    {
     "name": "stdin",
     "output_type": "stream",
     "text": [
      " I want to remove spaces from this sentence\n"
     ]
    }
   ],
   "source": [
    "print(\"Please enter any string to remove space\")\n",
    "string = input( )"
   ]
  },
  {
   "cell_type": "code",
   "execution_count": 19,
   "id": "ea50bde2-ba4d-4563-a9cc-9105427f4cdd",
   "metadata": {},
   "outputs": [
    {
     "name": "stdout",
     "output_type": "stream",
     "text": [
      "Iwanttoremovespacesfromthissentence\n"
     ]
    }
   ],
   "source": [
    "x = string.replace(\" \", \"\")\n",
    "\n",
    "print(x)"
   ]
  }
 ],
 "metadata": {
  "kernelspec": {
   "display_name": "Python 3 (ipykernel)",
   "language": "python",
   "name": "python3"
  },
  "language_info": {
   "codemirror_mode": {
    "name": "ipython",
    "version": 3
   },
   "file_extension": ".py",
   "mimetype": "text/x-python",
   "name": "python",
   "nbconvert_exporter": "python",
   "pygments_lexer": "ipython3",
   "version": "3.10.8"
  }
 },
 "nbformat": 4,
 "nbformat_minor": 5
}
